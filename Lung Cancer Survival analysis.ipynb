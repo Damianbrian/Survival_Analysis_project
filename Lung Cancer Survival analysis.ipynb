{
 "cells": [
  {
   "cell_type": "code",
   "execution_count": 1,
   "id": "2f2f1dca-f5c5-4590-847c-eed82b58b778",
   "metadata": {},
   "outputs": [],
   "source": [
    "import numpy as np\n",
    "import pandas as pd\n",
    "import matplotlib.pyplot as plt\n",
    "import seaborn as sns\n",
    "%matplotlib inline"
   ]
  },
  {
   "cell_type": "markdown",
   "id": "c8f5026d-1533-4672-aa19-87ae5572b25e",
   "metadata": {},
   "source": [
    "## About the Dataset\n",
    "Fro survival analysis in lung cancer, a commonly used dataset is the lung cancer survival dataset. we will use this dataset to model survival probabilities. The data includes several features such as:\n",
    "1. Time: The survival time or time until death (in days).\n",
    "2. Status: Censoring indicator (1= death, 0= censored)\n",
    "3. Age: The patient's age at the time of diagnosis\n",
    "4. Sex: Gender (1= male, 2= female)\n",
    "5. ph.ecog: ECOG performance score (a measure of patient's daily functioning)\n",
    "6. meal.ca: Calories consumed per day\n",
    "7. wt.loss: Weight loss (in kgs) over the preceding 6 months"
   ]
  },
  {
   "cell_type": "code",
   "execution_count": 4,
   "id": "da884170-d86b-4b92-87a1-ae49d1b44ca5",
   "metadata": {},
   "outputs": [],
   "source": [
    "data=pd.read_csv(\"C:/Users/user1/Desktop/cancer.csv\")\n",
    "data[\"status\"]=data[\"status\"]-1"
   ]
  },
  {
   "cell_type": "code",
   "execution_count": 6,
   "id": "ddcffc23-ba1c-4b5c-84e5-314c9e65224d",
   "metadata": {},
   "outputs": [
    {
     "data": {
      "text/html": [
       "<div>\n",
       "<style scoped>\n",
       "    .dataframe tbody tr th:only-of-type {\n",
       "        vertical-align: middle;\n",
       "    }\n",
       "\n",
       "    .dataframe tbody tr th {\n",
       "        vertical-align: top;\n",
       "    }\n",
       "\n",
       "    .dataframe thead th {\n",
       "        text-align: right;\n",
       "    }\n",
       "</style>\n",
       "<table border=\"1\" class=\"dataframe\">\n",
       "  <thead>\n",
       "    <tr style=\"text-align: right;\">\n",
       "      <th></th>\n",
       "      <th>Unnamed: 0</th>\n",
       "      <th>inst</th>\n",
       "      <th>time</th>\n",
       "      <th>status</th>\n",
       "      <th>age</th>\n",
       "      <th>sex</th>\n",
       "      <th>ph.ecog</th>\n",
       "      <th>ph.karno</th>\n",
       "      <th>pat.karno</th>\n",
       "      <th>meal.cal</th>\n",
       "      <th>wt.loss</th>\n",
       "    </tr>\n",
       "  </thead>\n",
       "  <tbody>\n",
       "    <tr>\n",
       "      <th>0</th>\n",
       "      <td>1</td>\n",
       "      <td>3.0</td>\n",
       "      <td>306</td>\n",
       "      <td>1</td>\n",
       "      <td>74</td>\n",
       "      <td>1</td>\n",
       "      <td>1.0</td>\n",
       "      <td>90.0</td>\n",
       "      <td>100.0</td>\n",
       "      <td>1175.0</td>\n",
       "      <td>NaN</td>\n",
       "    </tr>\n",
       "    <tr>\n",
       "      <th>1</th>\n",
       "      <td>2</td>\n",
       "      <td>3.0</td>\n",
       "      <td>455</td>\n",
       "      <td>1</td>\n",
       "      <td>68</td>\n",
       "      <td>1</td>\n",
       "      <td>0.0</td>\n",
       "      <td>90.0</td>\n",
       "      <td>90.0</td>\n",
       "      <td>1225.0</td>\n",
       "      <td>15.0</td>\n",
       "    </tr>\n",
       "    <tr>\n",
       "      <th>2</th>\n",
       "      <td>3</td>\n",
       "      <td>3.0</td>\n",
       "      <td>1010</td>\n",
       "      <td>0</td>\n",
       "      <td>56</td>\n",
       "      <td>1</td>\n",
       "      <td>0.0</td>\n",
       "      <td>90.0</td>\n",
       "      <td>90.0</td>\n",
       "      <td>NaN</td>\n",
       "      <td>15.0</td>\n",
       "    </tr>\n",
       "    <tr>\n",
       "      <th>3</th>\n",
       "      <td>4</td>\n",
       "      <td>5.0</td>\n",
       "      <td>210</td>\n",
       "      <td>1</td>\n",
       "      <td>57</td>\n",
       "      <td>1</td>\n",
       "      <td>1.0</td>\n",
       "      <td>90.0</td>\n",
       "      <td>60.0</td>\n",
       "      <td>1150.0</td>\n",
       "      <td>11.0</td>\n",
       "    </tr>\n",
       "    <tr>\n",
       "      <th>4</th>\n",
       "      <td>5</td>\n",
       "      <td>1.0</td>\n",
       "      <td>883</td>\n",
       "      <td>1</td>\n",
       "      <td>60</td>\n",
       "      <td>1</td>\n",
       "      <td>0.0</td>\n",
       "      <td>100.0</td>\n",
       "      <td>90.0</td>\n",
       "      <td>NaN</td>\n",
       "      <td>0.0</td>\n",
       "    </tr>\n",
       "  </tbody>\n",
       "</table>\n",
       "</div>"
      ],
      "text/plain": [
       "   Unnamed: 0  inst  time  status  age  sex  ph.ecog  ph.karno  pat.karno  \\\n",
       "0           1   3.0   306       1   74    1      1.0      90.0      100.0   \n",
       "1           2   3.0   455       1   68    1      0.0      90.0       90.0   \n",
       "2           3   3.0  1010       0   56    1      0.0      90.0       90.0   \n",
       "3           4   5.0   210       1   57    1      1.0      90.0       60.0   \n",
       "4           5   1.0   883       1   60    1      0.0     100.0       90.0   \n",
       "\n",
       "   meal.cal  wt.loss  \n",
       "0    1175.0      NaN  \n",
       "1    1225.0     15.0  \n",
       "2       NaN     15.0  \n",
       "3    1150.0     11.0  \n",
       "4       NaN      0.0  "
      ]
     },
     "execution_count": 6,
     "metadata": {},
     "output_type": "execute_result"
    }
   ],
   "source": [
    "data.head()"
   ]
  },
  {
   "cell_type": "markdown",
   "id": "c569deeb-b388-40d9-b662-995c24d62100",
   "metadata": {},
   "source": [
    "## Checking for Null values in the dataset"
   ]
  },
  {
   "cell_type": "code",
   "execution_count": 9,
   "id": "7f271aac-c380-46ec-95d4-1f0af98dc697",
   "metadata": {},
   "outputs": [
    {
     "data": {
      "text/plain": [
       "Unnamed: 0     0\n",
       "inst           1\n",
       "time           0\n",
       "status         0\n",
       "age            0\n",
       "sex            0\n",
       "ph.ecog        1\n",
       "ph.karno       1\n",
       "pat.karno      3\n",
       "meal.cal      47\n",
       "wt.loss       14\n",
       "dtype: int64"
      ]
     },
     "execution_count": 9,
     "metadata": {},
     "output_type": "execute_result"
    }
   ],
   "source": [
    "data.isnull().sum()"
   ]
  },
  {
   "cell_type": "code",
   "execution_count": null,
   "id": "803c8967-f7e1-43f9-92d0-4aa6dad378d9",
   "metadata": {},
   "outputs": [],
   "source": []
  },
  {
   "cell_type": "markdown",
   "id": "375f571c-fd79-48a4-8ec3-a47b4ef10dce",
   "metadata": {},
   "source": [
    "#### We wont use these Variables in our analysis so we drop them"
   ]
  },
  {
   "cell_type": "code",
   "execution_count": 13,
   "id": "3b68ea08-4e5d-4314-8b57-b040d97a434a",
   "metadata": {},
   "outputs": [],
   "source": [
    "data.drop([\"Unnamed: 0\",\"inst\"],axis=1,inplace=True)"
   ]
  },
  {
   "cell_type": "code",
   "execution_count": 15,
   "id": "16679a63-3810-4da3-b208-b3b5b2125360",
   "metadata": {},
   "outputs": [
    {
     "data": {
      "text/html": [
       "<div>\n",
       "<style scoped>\n",
       "    .dataframe tbody tr th:only-of-type {\n",
       "        vertical-align: middle;\n",
       "    }\n",
       "\n",
       "    .dataframe tbody tr th {\n",
       "        vertical-align: top;\n",
       "    }\n",
       "\n",
       "    .dataframe thead th {\n",
       "        text-align: right;\n",
       "    }\n",
       "</style>\n",
       "<table border=\"1\" class=\"dataframe\">\n",
       "  <thead>\n",
       "    <tr style=\"text-align: right;\">\n",
       "      <th></th>\n",
       "      <th>time</th>\n",
       "      <th>status</th>\n",
       "      <th>age</th>\n",
       "      <th>sex</th>\n",
       "      <th>ph.ecog</th>\n",
       "      <th>ph.karno</th>\n",
       "      <th>pat.karno</th>\n",
       "      <th>meal.cal</th>\n",
       "      <th>wt.loss</th>\n",
       "    </tr>\n",
       "  </thead>\n",
       "  <tbody>\n",
       "    <tr>\n",
       "      <th>0</th>\n",
       "      <td>306</td>\n",
       "      <td>1</td>\n",
       "      <td>74</td>\n",
       "      <td>1</td>\n",
       "      <td>1.0</td>\n",
       "      <td>90.0</td>\n",
       "      <td>100.0</td>\n",
       "      <td>1175.0</td>\n",
       "      <td>NaN</td>\n",
       "    </tr>\n",
       "    <tr>\n",
       "      <th>1</th>\n",
       "      <td>455</td>\n",
       "      <td>1</td>\n",
       "      <td>68</td>\n",
       "      <td>1</td>\n",
       "      <td>0.0</td>\n",
       "      <td>90.0</td>\n",
       "      <td>90.0</td>\n",
       "      <td>1225.0</td>\n",
       "      <td>15.0</td>\n",
       "    </tr>\n",
       "    <tr>\n",
       "      <th>2</th>\n",
       "      <td>1010</td>\n",
       "      <td>0</td>\n",
       "      <td>56</td>\n",
       "      <td>1</td>\n",
       "      <td>0.0</td>\n",
       "      <td>90.0</td>\n",
       "      <td>90.0</td>\n",
       "      <td>NaN</td>\n",
       "      <td>15.0</td>\n",
       "    </tr>\n",
       "    <tr>\n",
       "      <th>3</th>\n",
       "      <td>210</td>\n",
       "      <td>1</td>\n",
       "      <td>57</td>\n",
       "      <td>1</td>\n",
       "      <td>1.0</td>\n",
       "      <td>90.0</td>\n",
       "      <td>60.0</td>\n",
       "      <td>1150.0</td>\n",
       "      <td>11.0</td>\n",
       "    </tr>\n",
       "    <tr>\n",
       "      <th>4</th>\n",
       "      <td>883</td>\n",
       "      <td>1</td>\n",
       "      <td>60</td>\n",
       "      <td>1</td>\n",
       "      <td>0.0</td>\n",
       "      <td>100.0</td>\n",
       "      <td>90.0</td>\n",
       "      <td>NaN</td>\n",
       "      <td>0.0</td>\n",
       "    </tr>\n",
       "  </tbody>\n",
       "</table>\n",
       "</div>"
      ],
      "text/plain": [
       "   time  status  age  sex  ph.ecog  ph.karno  pat.karno  meal.cal  wt.loss\n",
       "0   306       1   74    1      1.0      90.0      100.0    1175.0      NaN\n",
       "1   455       1   68    1      0.0      90.0       90.0    1225.0     15.0\n",
       "2  1010       0   56    1      0.0      90.0       90.0       NaN     15.0\n",
       "3   210       1   57    1      1.0      90.0       60.0    1150.0     11.0\n",
       "4   883       1   60    1      0.0     100.0       90.0       NaN      0.0"
      ]
     },
     "execution_count": 15,
     "metadata": {},
     "output_type": "execute_result"
    }
   ],
   "source": [
    "data.head()"
   ]
  },
  {
   "cell_type": "markdown",
   "id": "a0b5c905-7771-4d69-9936-f9c12e247d10",
   "metadata": {},
   "source": [
    "### Handling missing values\n",
    "In this analysis I encountered some missing values in the dataset, To handle them, I decided to replace the null values with the **Mean** value of the respective column.\n",
    "This approach helps in minimizing Bias and ensure that the dataset remains usable for further analysis, especially in predictive modeling or statistical analysis such as survival analysis"
   ]
  },
  {
   "cell_type": "code",
   "execution_count": 18,
   "id": "597e9e10-94f9-4dd9-a097-cee2cf5d8680",
   "metadata": {},
   "outputs": [],
   "source": [
    "data[\"meal.cal\"]=round(data[\"meal.cal\"].fillna(data['meal.cal'].mean()),2)\n",
    "data[\"wt.loss\"]=round(data[\"wt.loss\"].fillna(data['wt.loss'].mean()),2)   \n"
   ]
  },
  {
   "cell_type": "code",
   "execution_count": 20,
   "id": "abdf144b-63fe-437b-8cc4-fd4b05a46c0e",
   "metadata": {},
   "outputs": [
    {
     "data": {
      "text/html": [
       "<div>\n",
       "<style scoped>\n",
       "    .dataframe tbody tr th:only-of-type {\n",
       "        vertical-align: middle;\n",
       "    }\n",
       "\n",
       "    .dataframe tbody tr th {\n",
       "        vertical-align: top;\n",
       "    }\n",
       "\n",
       "    .dataframe thead th {\n",
       "        text-align: right;\n",
       "    }\n",
       "</style>\n",
       "<table border=\"1\" class=\"dataframe\">\n",
       "  <thead>\n",
       "    <tr style=\"text-align: right;\">\n",
       "      <th></th>\n",
       "      <th>time</th>\n",
       "      <th>status</th>\n",
       "      <th>age</th>\n",
       "      <th>sex</th>\n",
       "      <th>ph.ecog</th>\n",
       "      <th>ph.karno</th>\n",
       "      <th>pat.karno</th>\n",
       "      <th>meal.cal</th>\n",
       "      <th>wt.loss</th>\n",
       "    </tr>\n",
       "  </thead>\n",
       "  <tbody>\n",
       "    <tr>\n",
       "      <th>0</th>\n",
       "      <td>306</td>\n",
       "      <td>1</td>\n",
       "      <td>74</td>\n",
       "      <td>1</td>\n",
       "      <td>1.0</td>\n",
       "      <td>90.0</td>\n",
       "      <td>100.0</td>\n",
       "      <td>1175.00</td>\n",
       "      <td>9.83</td>\n",
       "    </tr>\n",
       "    <tr>\n",
       "      <th>1</th>\n",
       "      <td>455</td>\n",
       "      <td>1</td>\n",
       "      <td>68</td>\n",
       "      <td>1</td>\n",
       "      <td>0.0</td>\n",
       "      <td>90.0</td>\n",
       "      <td>90.0</td>\n",
       "      <td>1225.00</td>\n",
       "      <td>15.00</td>\n",
       "    </tr>\n",
       "    <tr>\n",
       "      <th>2</th>\n",
       "      <td>1010</td>\n",
       "      <td>0</td>\n",
       "      <td>56</td>\n",
       "      <td>1</td>\n",
       "      <td>0.0</td>\n",
       "      <td>90.0</td>\n",
       "      <td>90.0</td>\n",
       "      <td>928.78</td>\n",
       "      <td>15.00</td>\n",
       "    </tr>\n",
       "    <tr>\n",
       "      <th>3</th>\n",
       "      <td>210</td>\n",
       "      <td>1</td>\n",
       "      <td>57</td>\n",
       "      <td>1</td>\n",
       "      <td>1.0</td>\n",
       "      <td>90.0</td>\n",
       "      <td>60.0</td>\n",
       "      <td>1150.00</td>\n",
       "      <td>11.00</td>\n",
       "    </tr>\n",
       "    <tr>\n",
       "      <th>4</th>\n",
       "      <td>883</td>\n",
       "      <td>1</td>\n",
       "      <td>60</td>\n",
       "      <td>1</td>\n",
       "      <td>0.0</td>\n",
       "      <td>100.0</td>\n",
       "      <td>90.0</td>\n",
       "      <td>928.78</td>\n",
       "      <td>0.00</td>\n",
       "    </tr>\n",
       "    <tr>\n",
       "      <th>...</th>\n",
       "      <td>...</td>\n",
       "      <td>...</td>\n",
       "      <td>...</td>\n",
       "      <td>...</td>\n",
       "      <td>...</td>\n",
       "      <td>...</td>\n",
       "      <td>...</td>\n",
       "      <td>...</td>\n",
       "      <td>...</td>\n",
       "    </tr>\n",
       "    <tr>\n",
       "      <th>223</th>\n",
       "      <td>188</td>\n",
       "      <td>0</td>\n",
       "      <td>77</td>\n",
       "      <td>1</td>\n",
       "      <td>1.0</td>\n",
       "      <td>80.0</td>\n",
       "      <td>60.0</td>\n",
       "      <td>928.78</td>\n",
       "      <td>3.00</td>\n",
       "    </tr>\n",
       "    <tr>\n",
       "      <th>224</th>\n",
       "      <td>191</td>\n",
       "      <td>0</td>\n",
       "      <td>39</td>\n",
       "      <td>1</td>\n",
       "      <td>0.0</td>\n",
       "      <td>90.0</td>\n",
       "      <td>90.0</td>\n",
       "      <td>2350.00</td>\n",
       "      <td>-5.00</td>\n",
       "    </tr>\n",
       "    <tr>\n",
       "      <th>225</th>\n",
       "      <td>105</td>\n",
       "      <td>0</td>\n",
       "      <td>75</td>\n",
       "      <td>2</td>\n",
       "      <td>2.0</td>\n",
       "      <td>60.0</td>\n",
       "      <td>70.0</td>\n",
       "      <td>1025.00</td>\n",
       "      <td>5.00</td>\n",
       "    </tr>\n",
       "    <tr>\n",
       "      <th>226</th>\n",
       "      <td>174</td>\n",
       "      <td>0</td>\n",
       "      <td>66</td>\n",
       "      <td>1</td>\n",
       "      <td>1.0</td>\n",
       "      <td>90.0</td>\n",
       "      <td>100.0</td>\n",
       "      <td>1075.00</td>\n",
       "      <td>1.00</td>\n",
       "    </tr>\n",
       "    <tr>\n",
       "      <th>227</th>\n",
       "      <td>177</td>\n",
       "      <td>0</td>\n",
       "      <td>58</td>\n",
       "      <td>2</td>\n",
       "      <td>1.0</td>\n",
       "      <td>80.0</td>\n",
       "      <td>90.0</td>\n",
       "      <td>1060.00</td>\n",
       "      <td>0.00</td>\n",
       "    </tr>\n",
       "  </tbody>\n",
       "</table>\n",
       "<p>228 rows × 9 columns</p>\n",
       "</div>"
      ],
      "text/plain": [
       "     time  status  age  sex  ph.ecog  ph.karno  pat.karno  meal.cal  wt.loss\n",
       "0     306       1   74    1      1.0      90.0      100.0   1175.00     9.83\n",
       "1     455       1   68    1      0.0      90.0       90.0   1225.00    15.00\n",
       "2    1010       0   56    1      0.0      90.0       90.0    928.78    15.00\n",
       "3     210       1   57    1      1.0      90.0       60.0   1150.00    11.00\n",
       "4     883       1   60    1      0.0     100.0       90.0    928.78     0.00\n",
       "..    ...     ...  ...  ...      ...       ...        ...       ...      ...\n",
       "223   188       0   77    1      1.0      80.0       60.0    928.78     3.00\n",
       "224   191       0   39    1      0.0      90.0       90.0   2350.00    -5.00\n",
       "225   105       0   75    2      2.0      60.0       70.0   1025.00     5.00\n",
       "226   174       0   66    1      1.0      90.0      100.0   1075.00     1.00\n",
       "227   177       0   58    2      1.0      80.0       90.0   1060.00     0.00\n",
       "\n",
       "[228 rows x 9 columns]"
      ]
     },
     "execution_count": 20,
     "metadata": {},
     "output_type": "execute_result"
    }
   ],
   "source": [
    "data"
   ]
  },
  {
   "cell_type": "markdown",
   "id": "05b3c8db-5081-4401-a31b-edfb525c0eec",
   "metadata": {},
   "source": [
    "## Survival analysis Using Km- Estimate and NA- Estimate"
   ]
  },
  {
   "cell_type": "markdown",
   "id": "6b6eaa6e-5a19-4030-9980-109b70510b01",
   "metadata": {},
   "source": [
    "### KaplanMeier Estimate\n",
    "We will use the **Kaplan-Meier Estimate** to perform The Survival analysis, it is used to estimate the survival function from lifetime data and is widely used in medical research to model patients survival over time\n",
    "Below are codes to import and use KM estimator"
   ]
  },
  {
   "cell_type": "code",
   "execution_count": 24,
   "id": "7fa4e86d-7acc-4383-9f33-646279d50be6",
   "metadata": {},
   "outputs": [],
   "source": [
    "from lifelines import KaplanMeierFitter"
   ]
  },
  {
   "cell_type": "code",
   "execution_count": 26,
   "id": "93003f37-0f82-44c1-b08d-fe6bff5809af",
   "metadata": {},
   "outputs": [],
   "source": [
    "## After importing the KM estimate, the next step is to instantiate the KM fitter and fit the survival data\n",
    "kmf=KaplanMeierFitter()"
   ]
  },
  {
   "cell_type": "code",
   "execution_count": 28,
   "id": "b1d0d408-800d-4f25-8ec5-1f24806deaf6",
   "metadata": {},
   "outputs": [
    {
     "data": {
      "text/plain": [
       "<lifelines.KaplanMeierFitter:\"KM_estimate\", fitted with 228 total observations, 63 right-censored observations>"
      ]
     },
     "execution_count": 28,
     "metadata": {},
     "output_type": "execute_result"
    }
   ],
   "source": [
    "#fitting The survival data\n",
    "kmf.fit(data['time'], data['status'])"
   ]
  },
  {
   "cell_type": "code",
   "execution_count": 30,
   "id": "f6d54008-5c37-4735-bac0-911a3f25d1ea",
   "metadata": {},
   "outputs": [
    {
     "data": {
      "image/png": "[encoded data removed]",
      "text/plain": [
       "<Figure size 640x480 with 1 Axes>"
      ]
     },
     "metadata": {},
     "output_type": "display_data"
    }
   ],
   "source": [
    "## Ploting the KM survival curve\n",
    "plt.xlabel(\"Timelines\")\n",
    "plt.ylabel(\"Survival Probabilities\")\n",
    "plt.title(\"Kaplan-Meier Survival Curve\")\n",
    "kmf.plot()\n",
    "plt.show()"
   ]
  },
  {
   "cell_type": "markdown",
   "id": "c3db84e1-f4a9-40c9-a367-e88daa1a4fc8",
   "metadata": {},
   "source": [
    "### Event table\n",
    "After fitting the KM model to the survival data, we can plot the event table to provide insights into the nurmber of individual at risk, the number of events occoured, and the censored number at each time point"
   ]
  },
  {
   "cell_type": "code",
   "execution_count": 33,
   "id": "a8e6efb5-28bd-41ee-9857-4c33d2b3e165",
   "metadata": {},
   "outputs": [
    {
     "name": "stdout",
     "output_type": "stream",
     "text": [
      "Event_table\n"
     ]
    },
    {
     "data": {
      "text/html": [
       "<div>\n",
       "<style scoped>\n",
       "    .dataframe tbody tr th:only-of-type {\n",
       "        vertical-align: middle;\n",
       "    }\n",
       "\n",
       "    .dataframe tbody tr th {\n",
       "        vertical-align: top;\n",
       "    }\n",
       "\n",
       "    .dataframe thead th {\n",
       "        text-align: right;\n",
       "    }\n",
       "</style>\n",
       "<table border=\"1\" class=\"dataframe\">\n",
       "  <thead>\n",
       "    <tr style=\"text-align: right;\">\n",
       "      <th></th>\n",
       "      <th>removed</th>\n",
       "      <th>observed</th>\n",
       "      <th>censored</th>\n",
       "      <th>entrance</th>\n",
       "      <th>at_risk</th>\n",
       "    </tr>\n",
       "    <tr>\n",
       "      <th>event_at</th>\n",
       "      <th></th>\n",
       "      <th></th>\n",
       "      <th></th>\n",
       "      <th></th>\n",
       "      <th></th>\n",
       "    </tr>\n",
       "  </thead>\n",
       "  <tbody>\n",
       "    <tr>\n",
       "      <th>0.0</th>\n",
       "      <td>0</td>\n",
       "      <td>0</td>\n",
       "      <td>0</td>\n",
       "      <td>228</td>\n",
       "      <td>228</td>\n",
       "    </tr>\n",
       "    <tr>\n",
       "      <th>5.0</th>\n",
       "      <td>1</td>\n",
       "      <td>1</td>\n",
       "      <td>0</td>\n",
       "      <td>0</td>\n",
       "      <td>228</td>\n",
       "    </tr>\n",
       "    <tr>\n",
       "      <th>11.0</th>\n",
       "      <td>3</td>\n",
       "      <td>3</td>\n",
       "      <td>0</td>\n",
       "      <td>0</td>\n",
       "      <td>227</td>\n",
       "    </tr>\n",
       "    <tr>\n",
       "      <th>12.0</th>\n",
       "      <td>1</td>\n",
       "      <td>1</td>\n",
       "      <td>0</td>\n",
       "      <td>0</td>\n",
       "      <td>224</td>\n",
       "    </tr>\n",
       "    <tr>\n",
       "      <th>13.0</th>\n",
       "      <td>2</td>\n",
       "      <td>2</td>\n",
       "      <td>0</td>\n",
       "      <td>0</td>\n",
       "      <td>223</td>\n",
       "    </tr>\n",
       "    <tr>\n",
       "      <th>15.0</th>\n",
       "      <td>1</td>\n",
       "      <td>1</td>\n",
       "      <td>0</td>\n",
       "      <td>0</td>\n",
       "      <td>221</td>\n",
       "    </tr>\n",
       "    <tr>\n",
       "      <th>26.0</th>\n",
       "      <td>1</td>\n",
       "      <td>1</td>\n",
       "      <td>0</td>\n",
       "      <td>0</td>\n",
       "      <td>220</td>\n",
       "    </tr>\n",
       "    <tr>\n",
       "      <th>30.0</th>\n",
       "      <td>1</td>\n",
       "      <td>1</td>\n",
       "      <td>0</td>\n",
       "      <td>0</td>\n",
       "      <td>219</td>\n",
       "    </tr>\n",
       "    <tr>\n",
       "      <th>31.0</th>\n",
       "      <td>1</td>\n",
       "      <td>1</td>\n",
       "      <td>0</td>\n",
       "      <td>0</td>\n",
       "      <td>218</td>\n",
       "    </tr>\n",
       "    <tr>\n",
       "      <th>53.0</th>\n",
       "      <td>2</td>\n",
       "      <td>2</td>\n",
       "      <td>0</td>\n",
       "      <td>0</td>\n",
       "      <td>217</td>\n",
       "    </tr>\n",
       "  </tbody>\n",
       "</table>\n",
       "</div>"
      ],
      "text/plain": [
       "          removed  observed  censored  entrance  at_risk\n",
       "event_at                                                \n",
       "0.0             0         0         0       228      228\n",
       "5.0             1         1         0         0      228\n",
       "11.0            3         3         0         0      227\n",
       "12.0            1         1         0         0      224\n",
       "13.0            2         2         0         0      223\n",
       "15.0            1         1         0         0      221\n",
       "26.0            1         1         0         0      220\n",
       "30.0            1         1         0         0      219\n",
       "31.0            1         1         0         0      218\n",
       "53.0            2         2         0         0      217"
      ]
     },
     "execution_count": 33,
     "metadata": {},
     "output_type": "execute_result"
    }
   ],
   "source": [
    "event_table=kmf.event_table\n",
    "print(\"Event_table\")\n",
    "event_table.head(10)"
   ]
  },
  {
   "cell_type": "code",
   "execution_count": 37,
   "id": "0be3cb07-f21b-46fa-aa09-9a1413ada6b2",
   "metadata": {},
   "outputs": [
    {
     "data": {
      "image/png": "[encoded data removed]",
      "text/plain": [
       "<Figure size 640x480 with 1 Axes>"
      ]
     },
     "metadata": {},
     "output_type": "display_data"
    },
    {
     "data": {
      "text/html": [
       "<div>\n",
       "<style scoped>\n",
       "    .dataframe tbody tr th:only-of-type {\n",
       "        vertical-align: middle;\n",
       "    }\n",
       "\n",
       "    .dataframe tbody tr th {\n",
       "        vertical-align: top;\n",
       "    }\n",
       "\n",
       "    .dataframe thead th {\n",
       "        text-align: right;\n",
       "    }\n",
       "</style>\n",
       "<table border=\"1\" class=\"dataframe\">\n",
       "  <thead>\n",
       "    <tr style=\"text-align: right;\">\n",
       "      <th></th>\n",
       "      <th>removed</th>\n",
       "      <th>observed</th>\n",
       "      <th>censored</th>\n",
       "      <th>entrance</th>\n",
       "      <th>at_risk</th>\n",
       "    </tr>\n",
       "    <tr>\n",
       "      <th>event_at</th>\n",
       "      <th></th>\n",
       "      <th></th>\n",
       "      <th></th>\n",
       "      <th></th>\n",
       "      <th></th>\n",
       "    </tr>\n",
       "  </thead>\n",
       "  <tbody>\n",
       "    <tr>\n",
       "      <th>0.0</th>\n",
       "      <td>0</td>\n",
       "      <td>0</td>\n",
       "      <td>0</td>\n",
       "      <td>228</td>\n",
       "      <td>228</td>\n",
       "    </tr>\n",
       "    <tr>\n",
       "      <th>5.0</th>\n",
       "      <td>1</td>\n",
       "      <td>1</td>\n",
       "      <td>0</td>\n",
       "      <td>0</td>\n",
       "      <td>228</td>\n",
       "    </tr>\n",
       "    <tr>\n",
       "      <th>11.0</th>\n",
       "      <td>3</td>\n",
       "      <td>3</td>\n",
       "      <td>0</td>\n",
       "      <td>0</td>\n",
       "      <td>227</td>\n",
       "    </tr>\n",
       "    <tr>\n",
       "      <th>12.0</th>\n",
       "      <td>1</td>\n",
       "      <td>1</td>\n",
       "      <td>0</td>\n",
       "      <td>0</td>\n",
       "      <td>224</td>\n",
       "    </tr>\n",
       "    <tr>\n",
       "      <th>13.0</th>\n",
       "      <td>2</td>\n",
       "      <td>2</td>\n",
       "      <td>0</td>\n",
       "      <td>0</td>\n",
       "      <td>223</td>\n",
       "    </tr>\n",
       "    <tr>\n",
       "      <th>...</th>\n",
       "      <td>...</td>\n",
       "      <td>...</td>\n",
       "      <td>...</td>\n",
       "      <td>...</td>\n",
       "      <td>...</td>\n",
       "    </tr>\n",
       "    <tr>\n",
       "      <th>840.0</th>\n",
       "      <td>1</td>\n",
       "      <td>0</td>\n",
       "      <td>1</td>\n",
       "      <td>0</td>\n",
       "      <td>5</td>\n",
       "    </tr>\n",
       "    <tr>\n",
       "      <th>883.0</th>\n",
       "      <td>1</td>\n",
       "      <td>1</td>\n",
       "      <td>0</td>\n",
       "      <td>0</td>\n",
       "      <td>4</td>\n",
       "    </tr>\n",
       "    <tr>\n",
       "      <th>965.0</th>\n",
       "      <td>1</td>\n",
       "      <td>0</td>\n",
       "      <td>1</td>\n",
       "      <td>0</td>\n",
       "      <td>3</td>\n",
       "    </tr>\n",
       "    <tr>\n",
       "      <th>1010.0</th>\n",
       "      <td>1</td>\n",
       "      <td>0</td>\n",
       "      <td>1</td>\n",
       "      <td>0</td>\n",
       "      <td>2</td>\n",
       "    </tr>\n",
       "    <tr>\n",
       "      <th>1022.0</th>\n",
       "      <td>1</td>\n",
       "      <td>0</td>\n",
       "      <td>1</td>\n",
       "      <td>0</td>\n",
       "      <td>1</td>\n",
       "    </tr>\n",
       "  </tbody>\n",
       "</table>\n",
       "<p>187 rows × 5 columns</p>\n",
       "</div>"
      ],
      "text/plain": [
       "          removed  observed  censored  entrance  at_risk\n",
       "event_at                                                \n",
       "0.0             0         0         0       228      228\n",
       "5.0             1         1         0         0      228\n",
       "11.0            3         3         0         0      227\n",
       "12.0            1         1         0         0      224\n",
       "13.0            2         2         0         0      223\n",
       "...           ...       ...       ...       ...      ...\n",
       "840.0           1         0         1         0        5\n",
       "883.0           1         1         0         0        4\n",
       "965.0           1         0         1         0        3\n",
       "1010.0          1         0         1         0        2\n",
       "1022.0          1         0         1         0        1\n",
       "\n",
       "[187 rows x 5 columns]"
      ]
     },
     "execution_count": 37,
     "metadata": {},
     "output_type": "execute_result"
    }
   ],
   "source": [
    "kmf.plot_survival_function()\n",
    "plt.xlabel(\"Timelines\")\n",
    "plt.ylabel(\"Survival Probabilities\")\n",
    "plt.title(\"Kaplan-Meier Survival Curve\")\n",
    "plt.show()\n",
    "kmf.event_table"
   ]
  },
  {
   "cell_type": "markdown",
   "id": "7c723063-ffa1-4885-a70d-4155bbc3d250",
   "metadata": {},
   "source": [
    "### Predicting Survival at specific time points\n",
    "Once we have fitted the KMS we can now predict survival probabilities at specific time points. This is useful for estimating the probability that a subject will survive beyond certain time periods"
   ]
  },
  {
   "cell_type": "code",
   "execution_count": 100,
   "id": "b7c2a7d4-be10-4c77-b846-8e953401e29b",
   "metadata": {},
   "outputs": [
    {
     "name": "stdout",
     "output_type": "stream",
     "text": [
      "Survival probability at time 1: = 1.0000\n",
      "Survival probability at time 20: = 0.9649\n",
      "Survival probability at time 40: = 0.9518\n",
      "Survival probability at time 65: = 0.9079\n",
      "Survival probability at time 90: = 0.8816\n",
      "Survival probability at time 125: = 0.8246\n",
      "Survival probability at time 230: = 0.5395\n",
      "Survival probability at time 335: = 0.3465\n",
      "Survival probability at time 440: = 0.2237\n",
      "Survival probability at time 545: = 0.1404\n",
      "Survival probability at time 650: = 0.0877\n"
     ]
    }
   ],
   "source": [
    "time_points=[1,20,40,65,90,125,230,335,440,545,650]\n",
    "Survival_probabilities=kmf.predict(time_points)\n",
    "Survival_probabilities\n",
    "\n",
    "for t, Survival_prob in zip(time_points,Survival_probabilities):\n",
    "    print(f\"Survival probability at time {t}: = {Survival_prob:.4f}\")"
   ]
  },
  {
   "cell_type": "markdown",
   "id": "35508ad4-a987-4f30-b645-35d4ded110b7",
   "metadata": {},
   "source": [
    "### Cumulative Density Plot\n",
    "The **Cumulative Density Function (CDF)** represents the probability that the event has occured by a certain time point. It is a comliment of the survival function"
   ]
  },
  {
   "cell_type": "code",
   "execution_count": 45,
   "id": "5dffbe62-918e-46e5-bf3d-4cf6627f241a",
   "metadata": {},
   "outputs": [
    {
     "data": {
      "image/png": "[encoded data removed]",
      "text/plain": [
       "<Figure size 640x480 with 1 Axes>"
      ]
     },
     "metadata": {},
     "output_type": "display_data"
    }
   ],
   "source": [
    "kmf.cumulative_density_.plot()\n",
    "plt.xlabel(\"Time (days)\")\n",
    "plt.ylabel(\"Cumulative Probabilities\")\n",
    "plt.title(\"Cumulative Density Function\")\n",
    "plt.show()"
   ]
  },
  {
   "cell_type": "code",
   "execution_count": null,
   "id": "7738c511-1931-4201-8494-1dbe00fd4b23",
   "metadata": {},
   "outputs": [],
   "source": []
  },
  {
   "cell_type": "markdown",
   "id": "e7065f28-238a-47bc-9559-7d773c0cbf50",
   "metadata": {},
   "source": [
    "## Nelson- Aalen Estimate\n",
    "The **Nelson Aalen Estimate** is used to estimate the cumulative hazard function whhich provides the total amount of risk accumulated over time. it compliments the Kaplan-meier estimator, which focus on survival probabilities. \n",
    "The cumulative hazard function helps to model the risk of the event happening at each time point."
   ]
  },
  {
   "cell_type": "code",
   "execution_count": 48,
   "id": "7fac018a-4076-4d69-a06f-d3666e290e18",
   "metadata": {},
   "outputs": [],
   "source": [
    "from lifelines import NelsonAalenFitter"
   ]
  },
  {
   "cell_type": "code",
   "execution_count": 50,
   "id": "b68a1bd4-9b75-4eac-8d95-88c7a7cc3e5c",
   "metadata": {},
   "outputs": [],
   "source": [
    "na=NelsonAalenFitter()"
   ]
  },
  {
   "cell_type": "code",
   "execution_count": 52,
   "id": "2983aaf0-3fc0-4360-ab6f-b774ca5f6b38",
   "metadata": {},
   "outputs": [
    {
     "data": {
      "text/plain": [
       "<lifelines.NelsonAalenFitter:\"NA_estimate\", fitted with 228 total observations, 63 right-censored observations>"
      ]
     },
     "execution_count": 52,
     "metadata": {},
     "output_type": "execute_result"
    }
   ],
   "source": [
    "na.fit(data['time'], data['status'])"
   ]
  },
  {
   "cell_type": "code",
   "execution_count": null,
   "id": "c95060e1-03c5-4011-b415-33d2126c5519",
   "metadata": {},
   "outputs": [],
   "source": []
  },
  {
   "cell_type": "code",
   "execution_count": 65,
   "id": "a4c3b935-f686-4a77-8a77-e149ee114453",
   "metadata": {},
   "outputs": [
    {
     "data": {
      "text/plain": [
       "<Axes: xlabel='timeline'>"
      ]
     },
     "execution_count": 65,
     "metadata": {},
     "output_type": "execute_result"
    },
    {
     "data": {
      "image/png": "[encoded data removed]",
      "text/plain": [
       "<Figure size 640x480 with 1 Axes>"
      ]
     },
     "metadata": {},
     "output_type": "display_data"
    }
   ],
   "source": [
    "na.plot_cumulative_hazard()"
   ]
  },
  {
   "cell_type": "code",
   "execution_count": null,
   "id": "68b278ca-01cf-4fae-8ccf-01d541279aa3",
   "metadata": {},
   "outputs": [],
   "source": []
  },
  {
   "cell_type": "code",
   "execution_count": null,
   "id": "c49e53d6-6682-4bce-85e2-db4cc83007e4",
   "metadata": {},
   "outputs": [],
   "source": []
  },
  {
   "cell_type": "code",
   "execution_count": 155,
   "id": "af8a5619-a06d-465f-a7aa-af53a63cb95c",
   "metadata": {},
   "outputs": [],
   "source": [
    "from lifelines import CoxPHFitter"
   ]
  },
  {
   "cell_type": "code",
   "execution_count": 157,
   "id": "fe7d8970-c4ac-4b1b-a539-fddf95b99fa1",
   "metadata": {},
   "outputs": [],
   "source": [
    "cph=CoxPHFitter()"
   ]
  },
  {
   "cell_type": "code",
   "execution_count": 185,
   "id": "6d799897-c768-4b17-8225-5df4f8364a32",
   "metadata": {},
   "outputs": [],
   "source": [
    "data=data.dropna()"
   ]
  },
  {
   "cell_type": "code",
   "execution_count": 187,
   "id": "eb37a32b-535f-41cb-9409-b72de983bb95",
   "metadata": {},
   "outputs": [
    {
     "data": {
      "text/plain": [
       "<lifelines.CoxPHFitter: fitted with 223 total observations, 0 right-censored observations>"
      ]
     },
     "execution_count": 187,
     "metadata": {},
     "output_type": "execute_result"
    }
   ],
   "source": [
    "cph.fit(data, duration_col='time',event_col='status')"
   ]
  },
  {
   "cell_type": "code",
   "execution_count": 193,
   "id": "09e95ebc-7b33-455c-902d-1522441df89b",
   "metadata": {},
   "outputs": [
    {
     "data": {
      "text/html": [
       "<div>\n",
       "<style scoped>\n",
       "    .dataframe tbody tr th:only-of-type {\n",
       "        vertical-align: middle;\n",
       "    }\n",
       "\n",
       "    .dataframe tbody tr th {\n",
       "        vertical-align: top;\n",
       "    }\n",
       "\n",
       "    .dataframe thead th {\n",
       "        text-align: right;\n",
       "    }\n",
       "</style>\n",
       "<table border=\"1\" class=\"dataframe\">\n",
       "  <thead>\n",
       "    <tr style=\"text-align: right;\">\n",
       "      <th></th>\n",
       "      <th>coef</th>\n",
       "      <th>exp(coef)</th>\n",
       "      <th>se(coef)</th>\n",
       "      <th>coef lower 95%</th>\n",
       "      <th>coef upper 95%</th>\n",
       "      <th>exp(coef) lower 95%</th>\n",
       "      <th>exp(coef) upper 95%</th>\n",
       "      <th>cmp to</th>\n",
       "      <th>z</th>\n",
       "      <th>p</th>\n",
       "      <th>-log2(p)</th>\n",
       "    </tr>\n",
       "    <tr>\n",
       "      <th>covariate</th>\n",
       "      <th></th>\n",
       "      <th></th>\n",
       "      <th></th>\n",
       "      <th></th>\n",
       "      <th></th>\n",
       "      <th></th>\n",
       "      <th></th>\n",
       "      <th></th>\n",
       "      <th></th>\n",
       "      <th></th>\n",
       "      <th></th>\n",
       "    </tr>\n",
       "  </thead>\n",
       "  <tbody>\n",
       "    <tr>\n",
       "      <th>age</th>\n",
       "      <td>0.000886</td>\n",
       "      <td>1.000887</td>\n",
       "      <td>0.008018</td>\n",
       "      <td>-0.014828</td>\n",
       "      <td>0.016601</td>\n",
       "      <td>0.985281</td>\n",
       "      <td>1.016739</td>\n",
       "      <td>0.0</td>\n",
       "      <td>0.110528</td>\n",
       "      <td>0.911990</td>\n",
       "      <td>0.132910</td>\n",
       "    </tr>\n",
       "    <tr>\n",
       "      <th>sex</th>\n",
       "      <td>-0.227814</td>\n",
       "      <td>0.796272</td>\n",
       "      <td>0.139780</td>\n",
       "      <td>-0.501779</td>\n",
       "      <td>0.046151</td>\n",
       "      <td>0.605453</td>\n",
       "      <td>1.047232</td>\n",
       "      <td>0.0</td>\n",
       "      <td>-1.629798</td>\n",
       "      <td>0.103144</td>\n",
       "      <td>3.277267</td>\n",
       "    </tr>\n",
       "    <tr>\n",
       "      <th>ph.ecog</th>\n",
       "      <td>0.459451</td>\n",
       "      <td>1.583205</td>\n",
       "      <td>0.161784</td>\n",
       "      <td>0.142360</td>\n",
       "      <td>0.776542</td>\n",
       "      <td>1.152992</td>\n",
       "      <td>2.173942</td>\n",
       "      <td>0.0</td>\n",
       "      <td>2.839904</td>\n",
       "      <td>0.004513</td>\n",
       "      <td>7.791789</td>\n",
       "    </tr>\n",
       "    <tr>\n",
       "      <th>ph.karno</th>\n",
       "      <td>0.017109</td>\n",
       "      <td>1.017256</td>\n",
       "      <td>0.008609</td>\n",
       "      <td>0.000235</td>\n",
       "      <td>0.033982</td>\n",
       "      <td>1.000235</td>\n",
       "      <td>1.034566</td>\n",
       "      <td>0.0</td>\n",
       "      <td>1.987305</td>\n",
       "      <td>0.046889</td>\n",
       "      <td>4.414619</td>\n",
       "    </tr>\n",
       "    <tr>\n",
       "      <th>pat.karno</th>\n",
       "      <td>-0.011168</td>\n",
       "      <td>0.988895</td>\n",
       "      <td>0.006070</td>\n",
       "      <td>-0.023064</td>\n",
       "      <td>0.000729</td>\n",
       "      <td>0.977200</td>\n",
       "      <td>1.000729</td>\n",
       "      <td>0.0</td>\n",
       "      <td>-1.839842</td>\n",
       "      <td>0.065791</td>\n",
       "      <td>3.925957</td>\n",
       "    </tr>\n",
       "    <tr>\n",
       "      <th>meal.cal</th>\n",
       "      <td>-0.000038</td>\n",
       "      <td>0.999962</td>\n",
       "      <td>0.000214</td>\n",
       "      <td>-0.000457</td>\n",
       "      <td>0.000381</td>\n",
       "      <td>0.999543</td>\n",
       "      <td>1.000381</td>\n",
       "      <td>0.0</td>\n",
       "      <td>-0.179265</td>\n",
       "      <td>0.857730</td>\n",
       "      <td>0.221405</td>\n",
       "    </tr>\n",
       "    <tr>\n",
       "      <th>wt.loss</th>\n",
       "      <td>-0.008393</td>\n",
       "      <td>0.991642</td>\n",
       "      <td>0.005653</td>\n",
       "      <td>-0.019472</td>\n",
       "      <td>0.002687</td>\n",
       "      <td>0.980716</td>\n",
       "      <td>1.002691</td>\n",
       "      <td>0.0</td>\n",
       "      <td>-1.484631</td>\n",
       "      <td>0.137642</td>\n",
       "      <td>2.861012</td>\n",
       "    </tr>\n",
       "  </tbody>\n",
       "</table>\n",
       "</div>"
      ],
      "text/plain": [
       "               coef  exp(coef)  se(coef)  coef lower 95%  coef upper 95%  \\\n",
       "covariate                                                                  \n",
       "age        0.000886   1.000887  0.008018       -0.014828        0.016601   \n",
       "sex       -0.227814   0.796272  0.139780       -0.501779        0.046151   \n",
       "ph.ecog    0.459451   1.583205  0.161784        0.142360        0.776542   \n",
       "ph.karno   0.017109   1.017256  0.008609        0.000235        0.033982   \n",
       "pat.karno -0.011168   0.988895  0.006070       -0.023064        0.000729   \n",
       "meal.cal  -0.000038   0.999962  0.000214       -0.000457        0.000381   \n",
       "wt.loss   -0.008393   0.991642  0.005653       -0.019472        0.002687   \n",
       "\n",
       "           exp(coef) lower 95%  exp(coef) upper 95%  cmp to         z  \\\n",
       "covariate                                                               \n",
       "age                   0.985281             1.016739     0.0  0.110528   \n",
       "sex                   0.605453             1.047232     0.0 -1.629798   \n",
       "ph.ecog               1.152992             2.173942     0.0  2.839904   \n",
       "ph.karno              1.000235             1.034566     0.0  1.987305   \n",
       "pat.karno             0.977200             1.000729     0.0 -1.839842   \n",
       "meal.cal              0.999543             1.000381     0.0 -0.179265   \n",
       "wt.loss               0.980716             1.002691     0.0 -1.484631   \n",
       "\n",
       "                  p  -log2(p)  \n",
       "covariate                      \n",
       "age        0.911990  0.132910  \n",
       "sex        0.103144  3.277267  \n",
       "ph.ecog    0.004513  7.791789  \n",
       "ph.karno   0.046889  4.414619  \n",
       "pat.karno  0.065791  3.925957  \n",
       "meal.cal   0.857730  0.221405  \n",
       "wt.loss    0.137642  2.861012  "
      ]
     },
     "execution_count": 193,
     "metadata": {},
     "output_type": "execute_result"
    }
   ],
   "source": [
    "cph.summary"
   ]
  },
  {
   "cell_type": "code",
   "execution_count": 195,
   "id": "70121f1f-b978-4ec4-8b0a-dc8434ec371c",
   "metadata": {},
   "outputs": [
    {
     "data": {
      "text/plain": [
       "<Axes: xlabel='log(HR) (95% CI)'>"
      ]
     },
     "execution_count": 195,
     "metadata": {},
     "output_type": "execute_result"
    },
    {
     "data": {
      "image/png": "[encoded data removed]",
      "text/plain": [
       "<Figure size 640x480 with 1 Axes>"
      ]
     },
     "metadata": {},
     "output_type": "display_data"
    }
   ],
   "source": [
    "cph.plot()"
   ]
  },
  {
   "cell_type": "code",
   "execution_count": null,
   "id": "b7319d35-9fd0-4d11-b4c3-94aa5988379d",
   "metadata": {},
   "outputs": [],
   "source": []
  }
 ],
 "metadata": {
  "kernelspec": {
   "display_name": "Python 3 (ipykernel)",
   "language": "python",
   "name": "python3"
  },
  "language_info": {
   "codemirror_mode": {
    "name": "ipython",
    "version": 3
   },
   "file_extension": ".py",
   "mimetype": "text/x-python",
   "name": "python",
   "nbconvert_exporter": "python",
   "pygments_lexer": "ipython3",
   "version": "3.11.3"
  }
 },
 "nbformat": 4,
 "nbformat_minor": 5
}
